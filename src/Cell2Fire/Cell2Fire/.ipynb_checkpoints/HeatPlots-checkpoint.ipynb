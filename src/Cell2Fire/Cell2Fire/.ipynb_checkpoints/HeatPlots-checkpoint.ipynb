{
 "cells": [
  {
   "cell_type": "code",
   "execution_count": 3,
   "metadata": {
    "collapsed": true
   },
   "outputs": [],
   "source": [
    "import numpy as np\n",
    "import seaborn as sns\n",
    "from matplotlib.colors import ListedColormap\n",
    "%matplotlib inline"
   ]
  },
  {
   "cell_type": "code",
   "execution_count": 4,
   "metadata": {},
   "outputs": [
    {
     "name": "stdout",
     "output_type": "stream",
     "text": [
      "[ 0.20585499 -0.75438902  1.61092478 -0.16694814 -0.08373765 -0.5513755\n",
      " -1.05883895  0.37140088  0.65046971  0.38123741] False\n"
     ]
    }
   ],
   "source": [
    "a = np.random.randn(10)\n",
    "all_zeros = not a.any()\n",
    "print(a, all_zeros)"
   ]
  },
  {
   "cell_type": "code",
   "execution_count": 5,
   "metadata": {},
   "outputs": [
    {
     "name": "stdout",
     "output_type": "stream",
     "text": [
      "[0. 0. 0. 0. 0. 0. 0. 0. 0. 0.] True\n"
     ]
    }
   ],
   "source": [
    "a = np.zeros(10)\n",
    "all_zeros = not a.any()\n",
    "print(a, all_zeros)"
   ]
  },
  {
   "cell_type": "code",
   "execution_count": 6,
   "metadata": {},
   "outputs": [
    {
     "data": {
      "text/plain": [
       "array([2, 2, 2, 2, 2, 2, 2, 2, 2, 2])"
      ]
     },
     "execution_count": 6,
     "metadata": {},
     "output_type": "execute_result"
    }
   ],
   "source": [
    "np.full(10, 2)"
   ]
  },
  {
   "cell_type": "code",
   "execution_count": 7,
   "metadata": {},
   "outputs": [
    {
     "data": {
      "text/plain": [
       "array([[0., 0.],\n",
       "       [0., 0.]])"
      ]
     },
     "execution_count": 7,
     "metadata": {},
     "output_type": "execute_result"
    }
   ],
   "source": [
    "m = np.zeros((2,2))\n",
    "m"
   ]
  },
  {
   "cell_type": "code",
   "execution_count": 8,
   "metadata": {},
   "outputs": [
    {
     "data": {
      "text/plain": [
       "False"
      ]
     },
     "execution_count": 8,
     "metadata": {},
     "output_type": "execute_result"
    }
   ],
   "source": [
    "m.any()"
   ]
  },
  {
   "cell_type": "code",
   "execution_count": 9,
   "metadata": {},
   "outputs": [
    {
     "data": {
      "text/plain": [
       "matrix([[2, 0],\n",
       "        [0, 0]])"
      ]
     },
     "execution_count": 9,
     "metadata": {},
     "output_type": "execute_result"
    }
   ],
   "source": [
    "m = np.matrix([[2,0], [0,0]])\n",
    "m"
   ]
  },
  {
   "cell_type": "code",
   "execution_count": 10,
   "metadata": {},
   "outputs": [
    {
     "data": {
      "text/plain": [
       "True"
      ]
     },
     "execution_count": 10,
     "metadata": {},
     "output_type": "execute_result"
    }
   ],
   "source": [
    "m.any()"
   ]
  },
  {
   "cell_type": "code",
   "execution_count": 156,
   "metadata": {},
   "outputs": [
    {
     "data": {
      "text/html": [
       "<div>\n",
       "<style scoped>\n",
       "    .dataframe tbody tr th:only-of-type {\n",
       "        vertical-align: middle;\n",
       "    }\n",
       "\n",
       "    .dataframe tbody tr th {\n",
       "        vertical-align: top;\n",
       "    }\n",
       "\n",
       "    .dataframe thead th {\n",
       "        text-align: right;\n",
       "    }\n",
       "</style>\n",
       "<table border=\"1\" class=\"dataframe\">\n",
       "  <thead>\n",
       "    <tr style=\"text-align: right;\">\n",
       "      <th></th>\n",
       "      <th>grid_value</th>\n",
       "      <th>export_value</th>\n",
       "      <th>descriptive_name</th>\n",
       "      <th>fuel_type</th>\n",
       "      <th>r</th>\n",
       "      <th>g</th>\n",
       "      <th>b</th>\n",
       "      <th>h</th>\n",
       "      <th>s</th>\n",
       "      <th>l</th>\n",
       "    </tr>\n",
       "  </thead>\n",
       "  <tbody>\n",
       "    <tr>\n",
       "      <th>0</th>\n",
       "      <td>1</td>\n",
       "      <td>1</td>\n",
       "      <td>Spruce-Lichen Woodland</td>\n",
       "      <td>C-1</td>\n",
       "      <td>209</td>\n",
       "      <td>255</td>\n",
       "      <td>115</td>\n",
       "      <td>57</td>\n",
       "      <td>255</td>\n",
       "      <td>185</td>\n",
       "    </tr>\n",
       "    <tr>\n",
       "      <th>1</th>\n",
       "      <td>2</td>\n",
       "      <td>2</td>\n",
       "      <td>Boreal Spruce</td>\n",
       "      <td>C-2</td>\n",
       "      <td>34</td>\n",
       "      <td>102</td>\n",
       "      <td>51</td>\n",
       "      <td>95</td>\n",
       "      <td>128</td>\n",
       "      <td>68</td>\n",
       "    </tr>\n",
       "    <tr>\n",
       "      <th>2</th>\n",
       "      <td>3</td>\n",
       "      <td>3</td>\n",
       "      <td>Mature Jack or Lodgepole Pine</td>\n",
       "      <td>C-3</td>\n",
       "      <td>131</td>\n",
       "      <td>199</td>\n",
       "      <td>149</td>\n",
       "      <td>96</td>\n",
       "      <td>96</td>\n",
       "      <td>165</td>\n",
       "    </tr>\n",
       "    <tr>\n",
       "      <th>3</th>\n",
       "      <td>4</td>\n",
       "      <td>4</td>\n",
       "      <td>Immature Jack or Lodgepole Pine</td>\n",
       "      <td>C-4</td>\n",
       "      <td>112</td>\n",
       "      <td>168</td>\n",
       "      <td>0</td>\n",
       "      <td>57</td>\n",
       "      <td>255</td>\n",
       "      <td>84</td>\n",
       "    </tr>\n",
       "    <tr>\n",
       "      <th>4</th>\n",
       "      <td>5</td>\n",
       "      <td>5</td>\n",
       "      <td>Red and White Pine</td>\n",
       "      <td>C-5</td>\n",
       "      <td>223</td>\n",
       "      <td>184</td>\n",
       "      <td>230</td>\n",
       "      <td>206</td>\n",
       "      <td>122</td>\n",
       "      <td>207</td>\n",
       "    </tr>\n",
       "  </tbody>\n",
       "</table>\n",
       "</div>"
      ],
      "text/plain": [
       "   grid_value   export_value                 descriptive_name  fuel_type    r  \\\n",
       "0           1              1           Spruce-Lichen Woodland        C-1  209   \n",
       "1           2              2                    Boreal Spruce        C-2   34   \n",
       "2           3              3    Mature Jack or Lodgepole Pine        C-3  131   \n",
       "3           4              4  Immature Jack or Lodgepole Pine        C-4  112   \n",
       "4           5              5               Red and White Pine        C-5  223   \n",
       "\n",
       "     g    b    h    s    l  \n",
       "0  255  115   57  255  185  \n",
       "1  102   51   95  128   68  \n",
       "2  199  149   96   96  165  \n",
       "3  168    0   57  255   84  \n",
       "4  184  230  206  122  207  "
      ]
     },
     "execution_count": 156,
     "metadata": {},
     "output_type": "execute_result"
    }
   ],
   "source": [
    "import pandas as pd\n",
    "fname = r'C:/Users/Lenovo/Documents/GitHub/MADRL_Fire/instances/heterogeneous/Sub20x20/fbp_lookup_table.csv'\n",
    "DFColors = pd.read_csv(fname)\n",
    "DFColors.head()"
   ]
  },
  {
   "cell_type": "code",
   "execution_count": 12,
   "metadata": {},
   "outputs": [
    {
     "data": {
      "text/plain": [
       "array([  1,   2,   3,   4,   5,   6,   7,  11,  12,  13,  21,  22,  23,\n",
       "        31,  32,  40,  50,  60,  70,  80,  90, 100, 101, 102, 103, 104,\n",
       "       105, 405, 410, 415, 420, 425, 430, 435, 440, 445, 450, 455, 460,\n",
       "       465, 470, 475, 480, 485, 490, 495, 505, 510, 515, 520, 525, 530,\n",
       "       535, 540, 545, 550, 555, 560, 565, 570, 575, 580, 585, 590, 595,\n",
       "       605, 610, 615, 620, 625, 630, 635, 640, 645, 650, 655, 660, 665,\n",
       "       670, 675, 680, 685, 690, 695, 705, 710, 715, 720, 725, 730, 735,\n",
       "       740, 745, 750, 755, 760, 765, 770, 775, 780, 785, 790, 795, 805,\n",
       "       810, 815, 820, 825, 830, 835, 840, 845, 850, 855, 860, 865, 870,\n",
       "       875, 880, 885, 890, 895, 905, 910, 915, 920, 925, 930, 935, 940,\n",
       "       945, 950, 955, 960, 965, 970, 975, 980, 985, 990, 995], dtype=int64)"
      ]
     },
     "execution_count": 12,
     "metadata": {},
     "output_type": "execute_result"
    }
   ],
   "source": [
    "ColorsID = DFColors[\"grid_value\"].values\n",
    "ColorsID"
   ]
  },
  {
   "cell_type": "code",
   "execution_count": 13,
   "metadata": {},
   "outputs": [
    {
     "data": {
      "text/plain": [
       "[(0.8196078431372549, 1.0, 0.45098039215686275, 1.0),\n",
       " (0.13333333333333333, 0.4, 0.2, 1.0),\n",
       " (0.5137254901960784, 0.7803921568627451, 0.5843137254901961, 1.0),\n",
       " (0.4392156862745098, 0.6588235294117647, 0.0, 1.0),\n",
       " (0.8745098039215686, 0.7215686274509804, 0.9019607843137255, 1.0),\n",
       " (0.6745098039215687, 0.4, 0.9294117647058824, 1.0),\n",
       " (0.4392156862745098, 0.047058823529411764, 0.9490196078431372, 1.0),\n",
       " (0.7686274509803922, 0.7411764705882353, 0.592156862745098, 1.0),\n",
       " (0.5372549019607843, 0.4392156862745098, 0.26666666666666666, 1.0),\n",
       " (0.7686274509803922, 0.7411764705882353, 0.592156862745098, 1.0),\n",
       " (0.984313725490196, 0.7450980392156863, 0.7254901960784313, 1.0),\n",
       " (0.9686274509803922, 0.40784313725490196, 0.6313725490196078, 1.0),\n",
       " (0.6823529411764706, 0.00392156862745098, 0.49411764705882355, 1.0),\n",
       " (1.0, 1.0, 0.7450980392156863, 1.0),\n",
       " (0.9019607843137255, 0.9019607843137255, 0.0, 1.0),\n",
       " (1.0, 0.8274509803921568, 0.4980392156862745, 1.0),\n",
       " (1.0, 0.6666666666666666, 0.0, 1.0),\n",
       " (1.0, 0.8274509803921568, 0.4980392156862745, 1.0),\n",
       " (0.38823529411764707, 0.0, 0.0, 1.0),\n",
       " (0.6666666666666666, 0.0, 0.0, 1.0),\n",
       " (0.38823529411764707, 0.0, 0.0, 1.0),\n",
       " (1.0, 1.0, 1.0, 1.0),\n",
       " (0.5098039215686274, 0.5098039215686274, 0.5098039215686274, 1.0),\n",
       " (0.45098039215686275, 0.8745098039215686, 1.0, 1.0),\n",
       " (0.0, 0.0, 0.0, 1.0),\n",
       " (0.6509803921568628, 0.6509803921568628, 0.6509803921568628, 1.0),\n",
       " (0.8, 0.8, 0.8, 1.0)]"
      ]
     },
     "execution_count": 13,
     "metadata": {},
     "output_type": "execute_result"
    }
   ],
   "source": [
    "MColors = DFColors[[\" r\", \" g\", \" b\"]].values / 255.0\n",
    "MColors = [tuple(np.concatenate((i,[1.0]))) for i in MColors]\n",
    "MColors[:27]"
   ]
  },
  {
   "cell_type": "code",
   "execution_count": 14,
   "metadata": {
    "collapsed": true
   },
   "outputs": [],
   "source": [
    "Colors = ListedColormap(MColors[:27])"
   ]
  },
  {
   "cell_type": "code",
   "execution_count": 15,
   "metadata": {},
   "outputs": [
    {
     "data": {
      "text/plain": [
       "<matplotlib.axes._subplots.AxesSubplot at 0x1867791d128>"
      ]
     },
     "execution_count": 15,
     "metadata": {},
     "output_type": "execute_result"
    },
    {
     "data": {
      "image/png": "[encoded data removed]",
      "text/plain": [
       "<matplotlib.figure.Figure at 0x1867788cef0>"
      ]
     },
     "metadata": {},
     "output_type": "display_data"
    }
   ],
   "source": [
    "data = np.random.randint(0, 4, (3,3)) # Random [-1, 0, 1] data\n",
    "CellsColors = ListedColormap([(209/255.0,255/255.0,115/255.0, 1.0),    # C1\n",
    "                              (34/255.0,102/255.0,51/255.0, 1.0),      # C2\n",
    "                              (131/255.0,199/255.0,149/255.0,1.0),     # C3\n",
    "                              (112/255.0,168/255.0,0/255.0,1.0),       # C4      \n",
    "                              (223/255.0,184/255.0,230/255.0,1.0),]    # C5\n",
    "                            )    \n",
    "\n",
    "sns.heatmap(data, cmap=CellsColors, annot=True, cbar=False, linewidth=0.5, square=True)"
   ]
  },
  {
   "cell_type": "code",
   "execution_count": 20,
   "metadata": {
    "collapsed": true
   },
   "outputs": [
    {
     "ename": "NameError",
     "evalue": "name 'plt' is not defined",
     "output_type": "error",
     "traceback": [
      "\u001b[1;31m---------------------------------------------------------------------------\u001b[0m",
      "\u001b[1;31mNameError\u001b[0m                                 Traceback (most recent call last)",
      "\u001b[1;32m<ipython-input-20-538510206e25>\u001b[0m in \u001b[0;36m<module>\u001b[1;34m()\u001b[0m\n\u001b[1;32m----> 1\u001b[1;33m \u001b[0mplt\u001b[0m\u001b[1;33m.\u001b[0m\u001b[0mmatshow\u001b[0m\u001b[1;33m(\u001b[0m\u001b[0mdata\u001b[0m\u001b[1;33m,\u001b[0m \u001b[0mcmap\u001b[0m\u001b[1;33m=\u001b[0m\u001b[0mCellsColors\u001b[0m\u001b[1;33m)\u001b[0m\u001b[1;33m\u001b[0m\u001b[0m\n\u001b[0m",
      "\u001b[1;31mNameError\u001b[0m: name 'plt' is not defined"
     ]
    }
   ],
   "source": [
    "plt.matshow(data, cmap=CellsColors)"
   ]
  },
  {
   "cell_type": "code",
   "execution_count": 17,
   "metadata": {},
   "outputs": [
    {
     "name": "stdout",
     "output_type": "stream",
     "text": [
      "[[2 1 1]\n",
      " [0 2 1]\n",
      " [3 3 2]]\n"
     ]
    }
   ],
   "source": [
    "print(data)"
   ]
  },
  {
   "cell_type": "code",
   "execution_count": 83,
   "metadata": {},
   "outputs": [],
   "source": [
    "data = np.array([[1,1,1],[2,2,2],[0,0,0]])"
   ]
  },
  {
   "cell_type": "code",
   "execution_count": 46,
   "metadata": {},
   "outputs": [
    {
     "data": {
      "text/plain": [
       "array([['1 1 1 '],\n",
       "       ['1 1 1 '],\n",
       "       ['1 1 1']], dtype=object)"
      ]
     },
     "execution_count": 46,
     "metadata": {},
     "output_type": "execute_result"
    }
   ],
   "source": [
    "pd.read_csv(\"C:/Users/Lenovo/Documents/GitHub/Cell2Fire/data/9cells/Forest.asc\", skiprows=5).values"
   ]
  },
  {
   "cell_type": "code",
   "execution_count": 45,
   "metadata": {
    "collapsed": true
   },
   "outputs": [
    {
     "ename": "ValueError",
     "evalue": "could not convert string to float: 'NODATA_value'",
     "output_type": "error",
     "traceback": [
      "\u001b[1;31m---------------------------------------------------------------------------\u001b[0m",
      "\u001b[1;31mValueError\u001b[0m                                Traceback (most recent call last)",
      "\u001b[1;32m<ipython-input-45-4e2bdafa4f8e>\u001b[0m in \u001b[0;36m<module>\u001b[1;34m()\u001b[0m\n\u001b[1;32m----> 1\u001b[1;33m \u001b[0mnp\u001b[0m\u001b[1;33m.\u001b[0m\u001b[0mloadtxt\u001b[0m\u001b[1;33m(\u001b[0m\u001b[1;34m\"C:/Users/Lenovo/Documents/GitHub/Cell2Fire/data/9cells/Forest.asc\"\u001b[0m\u001b[1;33m,\u001b[0m \u001b[0mskiprows\u001b[0m\u001b[1;33m=\u001b[0m\u001b[1;36m5\u001b[0m\u001b[1;33m)\u001b[0m\u001b[1;33m\u001b[0m\u001b[0m\n\u001b[0m",
      "\u001b[1;32mc:\\Python36\\lib\\site-packages\\numpy\\lib\\npyio.py\u001b[0m in \u001b[0;36mloadtxt\u001b[1;34m(fname, dtype, comments, delimiter, converters, skiprows, usecols, unpack, ndmin, encoding)\u001b[0m\n\u001b[0;32m   1090\u001b[0m         \u001b[1;31m# converting the data\u001b[0m\u001b[1;33m\u001b[0m\u001b[1;33m\u001b[0m\u001b[0m\n\u001b[0;32m   1091\u001b[0m         \u001b[0mX\u001b[0m \u001b[1;33m=\u001b[0m \u001b[1;32mNone\u001b[0m\u001b[1;33m\u001b[0m\u001b[0m\n\u001b[1;32m-> 1092\u001b[1;33m         \u001b[1;32mfor\u001b[0m \u001b[0mx\u001b[0m \u001b[1;32min\u001b[0m \u001b[0mread_data\u001b[0m\u001b[1;33m(\u001b[0m\u001b[0m_loadtxt_chunksize\u001b[0m\u001b[1;33m)\u001b[0m\u001b[1;33m:\u001b[0m\u001b[1;33m\u001b[0m\u001b[0m\n\u001b[0m\u001b[0;32m   1093\u001b[0m             \u001b[1;32mif\u001b[0m \u001b[0mX\u001b[0m \u001b[1;32mis\u001b[0m \u001b[1;32mNone\u001b[0m\u001b[1;33m:\u001b[0m\u001b[1;33m\u001b[0m\u001b[0m\n\u001b[0;32m   1094\u001b[0m                 \u001b[0mX\u001b[0m \u001b[1;33m=\u001b[0m \u001b[0mnp\u001b[0m\u001b[1;33m.\u001b[0m\u001b[0marray\u001b[0m\u001b[1;33m(\u001b[0m\u001b[0mx\u001b[0m\u001b[1;33m,\u001b[0m \u001b[0mdtype\u001b[0m\u001b[1;33m)\u001b[0m\u001b[1;33m\u001b[0m\u001b[0m\n",
      "\u001b[1;32mc:\\Python36\\lib\\site-packages\\numpy\\lib\\npyio.py\u001b[0m in \u001b[0;36mread_data\u001b[1;34m(chunk_size)\u001b[0m\n\u001b[0;32m   1017\u001b[0m \u001b[1;33m\u001b[0m\u001b[0m\n\u001b[0;32m   1018\u001b[0m             \u001b[1;31m# Convert each value according to its column and store\u001b[0m\u001b[1;33m\u001b[0m\u001b[1;33m\u001b[0m\u001b[0m\n\u001b[1;32m-> 1019\u001b[1;33m             \u001b[0mitems\u001b[0m \u001b[1;33m=\u001b[0m \u001b[1;33m[\u001b[0m\u001b[0mconv\u001b[0m\u001b[1;33m(\u001b[0m\u001b[0mval\u001b[0m\u001b[1;33m)\u001b[0m \u001b[1;32mfor\u001b[0m \u001b[1;33m(\u001b[0m\u001b[0mconv\u001b[0m\u001b[1;33m,\u001b[0m \u001b[0mval\u001b[0m\u001b[1;33m)\u001b[0m \u001b[1;32min\u001b[0m \u001b[0mzip\u001b[0m\u001b[1;33m(\u001b[0m\u001b[0mconverters\u001b[0m\u001b[1;33m,\u001b[0m \u001b[0mvals\u001b[0m\u001b[1;33m)\u001b[0m\u001b[1;33m]\u001b[0m\u001b[1;33m\u001b[0m\u001b[0m\n\u001b[0m\u001b[0;32m   1020\u001b[0m \u001b[1;33m\u001b[0m\u001b[0m\n\u001b[0;32m   1021\u001b[0m             \u001b[1;31m# Then pack it according to the dtype's nesting\u001b[0m\u001b[1;33m\u001b[0m\u001b[1;33m\u001b[0m\u001b[0m\n",
      "\u001b[1;32mc:\\Python36\\lib\\site-packages\\numpy\\lib\\npyio.py\u001b[0m in \u001b[0;36m<listcomp>\u001b[1;34m(.0)\u001b[0m\n\u001b[0;32m   1017\u001b[0m \u001b[1;33m\u001b[0m\u001b[0m\n\u001b[0;32m   1018\u001b[0m             \u001b[1;31m# Convert each value according to its column and store\u001b[0m\u001b[1;33m\u001b[0m\u001b[1;33m\u001b[0m\u001b[0m\n\u001b[1;32m-> 1019\u001b[1;33m             \u001b[0mitems\u001b[0m \u001b[1;33m=\u001b[0m \u001b[1;33m[\u001b[0m\u001b[0mconv\u001b[0m\u001b[1;33m(\u001b[0m\u001b[0mval\u001b[0m\u001b[1;33m)\u001b[0m \u001b[1;32mfor\u001b[0m \u001b[1;33m(\u001b[0m\u001b[0mconv\u001b[0m\u001b[1;33m,\u001b[0m \u001b[0mval\u001b[0m\u001b[1;33m)\u001b[0m \u001b[1;32min\u001b[0m \u001b[0mzip\u001b[0m\u001b[1;33m(\u001b[0m\u001b[0mconverters\u001b[0m\u001b[1;33m,\u001b[0m \u001b[0mvals\u001b[0m\u001b[1;33m)\u001b[0m\u001b[1;33m]\u001b[0m\u001b[1;33m\u001b[0m\u001b[0m\n\u001b[0m\u001b[0;32m   1020\u001b[0m \u001b[1;33m\u001b[0m\u001b[0m\n\u001b[0;32m   1021\u001b[0m             \u001b[1;31m# Then pack it according to the dtype's nesting\u001b[0m\u001b[1;33m\u001b[0m\u001b[1;33m\u001b[0m\u001b[0m\n",
      "\u001b[1;32mc:\\Python36\\lib\\site-packages\\numpy\\lib\\npyio.py\u001b[0m in \u001b[0;36mfloatconv\u001b[1;34m(x)\u001b[0m\n\u001b[0;32m    736\u001b[0m         \u001b[1;32mif\u001b[0m \u001b[1;34m'0x'\u001b[0m \u001b[1;32min\u001b[0m \u001b[0mx\u001b[0m\u001b[1;33m:\u001b[0m\u001b[1;33m\u001b[0m\u001b[0m\n\u001b[0;32m    737\u001b[0m             \u001b[1;32mreturn\u001b[0m \u001b[0mfloat\u001b[0m\u001b[1;33m.\u001b[0m\u001b[0mfromhex\u001b[0m\u001b[1;33m(\u001b[0m\u001b[0mx\u001b[0m\u001b[1;33m)\u001b[0m\u001b[1;33m\u001b[0m\u001b[0m\n\u001b[1;32m--> 738\u001b[1;33m         \u001b[1;32mreturn\u001b[0m \u001b[0mfloat\u001b[0m\u001b[1;33m(\u001b[0m\u001b[0mx\u001b[0m\u001b[1;33m)\u001b[0m\u001b[1;33m\u001b[0m\u001b[0m\n\u001b[0m\u001b[0;32m    739\u001b[0m \u001b[1;33m\u001b[0m\u001b[0m\n\u001b[0;32m    740\u001b[0m     \u001b[0mtyp\u001b[0m \u001b[1;33m=\u001b[0m \u001b[0mdtype\u001b[0m\u001b[1;33m.\u001b[0m\u001b[0mtype\u001b[0m\u001b[1;33m\u001b[0m\u001b[0m\n",
      "\u001b[1;31mValueError\u001b[0m: could not convert string to float: 'NODATA_value'"
     ]
    }
   ],
   "source": [
    "np.loadtxt(\"C:/Users/Lenovo/Documents/GitHub/Cell2Fire/data/9cells/Forest.asc\", skiprows=5)"
   ]
  },
  {
   "cell_type": "code",
   "execution_count": 88,
   "metadata": {},
   "outputs": [],
   "source": [
    "import matplotlib\n",
    "norm = matplotlib.colors.BoundaryNorm(np.arange(len(MColors[:27]))-0.5, 3)"
   ]
  },
  {
   "cell_type": "code",
   "execution_count": 89,
   "metadata": {},
   "outputs": [
    {
     "data": {
      "text/plain": [
       "<matplotlib.axes._subplots.AxesSubplot at 0x1867c197cf8>"
      ]
     },
     "execution_count": 89,
     "metadata": {},
     "output_type": "execute_result"
    },
    {
     "data": {
      "image/png": "[encoded data removed]",
      "text/plain": [
       "<matplotlib.figure.Figure at 0x1867c086e80>"
      ]
     },
     "metadata": {},
     "output_type": "display_data"
    }
   ],
   "source": [
    "sns.heatmap(data, cmap=Colors, annot=True, cbar=True, linewidth=0.5, norm=norm)"
   ]
  },
  {
   "cell_type": "code",
   "execution_count": 102,
   "metadata": {
    "code_folding": [
     0
    ],
    "collapsed": true
   },
   "outputs": [],
   "source": [
    "CustomColor = ListedColormap([(0.8196078431372549, 1.0, 0.45098039215686275, 1.0),\n",
    "                            (0.13333333333333333, 0.4, 0.2, 1.0),\n",
    "                            (0.5137254901960784, 0.7803921568627451, 0.5843137254901961, 1.0),\n",
    "                            (0.4392156862745098, 0.6588235294117647, 0.0, 1.0),\n",
    "                            (0.8745098039215686, 0.7215686274509804, 0.9019607843137255, 1.0),\n",
    "                            (0.6745098039215687, 0.4, 0.9294117647058824, 1.0),\n",
    "                            (0.4392156862745098, 0.047058823529411764, 0.9490196078431372, 1.0),\n",
    "                            (0.7686274509803922, 0.7411764705882353, 0.592156862745098, 1.0),\n",
    "                            (0.5372549019607843, 0.4392156862745098, 0.26666666666666666, 1.0),\n",
    "                            (0.7686274509803922, 0.7411764705882353, 0.592156862745098, 1.0),\n",
    "                            (0.984313725490196, 0.7450980392156863, 0.7254901960784313, 1.0),\n",
    "                            (0.9686274509803922, 0.40784313725490196, 0.6313725490196078, 1.0),\n",
    "                            (0.6823529411764706, 0.00392156862745098, 0.49411764705882355, 1.0),\n",
    "                            (1.0, 1.0, 0.7450980392156863, 1.0),\n",
    "                            (0.9019607843137255, 0.9019607843137255, 0.0, 1.0),\n",
    "                            (1.0, 0.8274509803921568, 0.4980392156862745, 1.0),\n",
    "                            (1.0, 0.6666666666666666, 0.0, 1.0),\n",
    "                            (1.0, 0.8274509803921568, 0.4980392156862745, 1.0),\n",
    "                            (0.38823529411764707, 0.0, 0.0, 1.0),\n",
    "                            (0.6666666666666666, 0.0, 0.0, 1.0),\n",
    "                            (0.38823529411764707, 0.0, 0.0, 1.0),\n",
    "                            (1.0, 1.0, 1.0, 1.0),\n",
    "                            (0.5098039215686274, 0.5098039215686274, 0.5098039215686274, 1.0),\n",
    "                            (0.45098039215686275, 0.8745098039215686, 1.0, 1.0),\n",
    "                            (0.0, 0.0, 0.0, 1.0),\n",
    "                            (0.6509803921568628, 0.6509803921568628, 0.6509803921568628, 1.0),\n",
    "                            (0.8, 0.8, 0.8, 1.0),\n",
    "                            (1.0, 0.8274509803921568, 0.4980392156862745, 1.0),\n",
    "                            (1.0, 0.8274509803921568, 0.4980392156862745, 1.0),\n",
    "                            (1.0, 0.8274509803921568, 0.4980392156862745, 1.0),\n",
    "                            (1.0, 0.8274509803921568, 0.4980392156862745, 1.0),\n",
    "                            (1.0, 0.8274509803921568, 0.4980392156862745, 1.0),\n",
    "                            (1.0, 0.8274509803921568, 0.4980392156862745, 1.0),\n",
    "                            (1.0, 0.8274509803921568, 0.4980392156862745, 1.0),\n",
    "                            (1.0, 0.8274509803921568, 0.4980392156862745, 1.0),\n",
    "                            (1.0, 0.8274509803921568, 0.4980392156862745, 1.0),\n",
    "                            (1.0, 0.8274509803921568, 0.4980392156862745, 1.0),\n",
    "                            (1.0, 0.8274509803921568, 0.4980392156862745, 1.0),\n",
    "                            (1.0, 0.8274509803921568, 0.4980392156862745, 1.0),\n",
    "                            (1.0, 0.8274509803921568, 0.4980392156862745, 1.0),\n",
    "                            (1.0, 0.8274509803921568, 0.4980392156862745, 1.0),\n",
    "                            (1.0, 0.8274509803921568, 0.4980392156862745, 1.0),\n",
    "                            (1.0, 0.8274509803921568, 0.4980392156862745, 1.0),\n",
    "                            (1.0, 0.8274509803921568, 0.4980392156862745, 1.0),\n",
    "                            (1.0, 0.8274509803921568, 0.4980392156862745, 1.0),\n",
    "                            (1.0, 0.8274509803921568, 0.4980392156862745, 1.0),\n",
    "                            (1.0, 0.6666666666666666, 0.0, 1.0),\n",
    "                            (1.0, 0.6666666666666666, 0.0, 1.0),\n",
    "                            (1.0, 0.6666666666666666, 0.0, 1.0),\n",
    "                            (1.0, 0.6666666666666666, 0.0, 1.0),\n",
    "                            (1.0, 0.6666666666666666, 0.0, 1.0),\n",
    "                            (1.0, 0.6666666666666666, 0.0, 1.0),\n",
    "                            (1.0, 0.6666666666666666, 0.0, 1.0),\n",
    "                            (1.0, 0.6666666666666666, 0.0, 1.0),\n",
    "                            (1.0, 0.6666666666666666, 0.0, 1.0),\n",
    "                            (1.0, 0.6666666666666666, 0.0, 1.0),\n",
    "                            (1.0, 0.6666666666666666, 0.0, 1.0),\n",
    "                            (1.0, 0.6666666666666666, 0.0, 1.0),\n",
    "                            (1.0, 0.6666666666666666, 0.0, 1.0),\n",
    "                            (1.0, 0.6666666666666666, 0.0, 1.0),\n",
    "                            (1.0, 0.6666666666666666, 0.0, 1.0),\n",
    "                            (1.0, 0.6666666666666666, 0.0, 1.0),\n",
    "                            (1.0, 0.6666666666666666, 0.0, 1.0),\n",
    "                            (1.0, 0.6666666666666666, 0.0, 1.0),\n",
    "                            (1.0, 0.6666666666666666, 0.0, 1.0),\n",
    "                            (1.0, 0.8274509803921568, 0.4980392156862745, 1.0),\n",
    "                            (1.0, 0.8274509803921568, 0.4980392156862745, 1.0),\n",
    "                            (1.0, 0.8274509803921568, 0.4980392156862745, 1.0),\n",
    "                            (1.0, 0.8274509803921568, 0.4980392156862745, 1.0),\n",
    "                            (1.0, 0.8274509803921568, 0.4980392156862745, 1.0),\n",
    "                            (1.0, 0.8274509803921568, 0.4980392156862745, 1.0),\n",
    "                            (1.0, 0.8274509803921568, 0.4980392156862745, 1.0),\n",
    "                            (1.0, 0.8274509803921568, 0.4980392156862745, 1.0),\n",
    "                            (1.0, 0.8274509803921568, 0.4980392156862745, 1.0),\n",
    "                            (1.0, 0.8274509803921568, 0.4980392156862745, 1.0),\n",
    "                            (1.0, 0.8274509803921568, 0.4980392156862745, 1.0),\n",
    "                            (1.0, 0.8274509803921568, 0.4980392156862745, 1.0),\n",
    "                            (1.0, 0.8274509803921568, 0.4980392156862745, 1.0),\n",
    "                            (1.0, 0.8274509803921568, 0.4980392156862745, 1.0),\n",
    "                            (1.0, 0.8274509803921568, 0.4980392156862745, 1.0),\n",
    "                            (1.0, 0.8274509803921568, 0.4980392156862745, 1.0),\n",
    "                            (1.0, 0.8274509803921568, 0.4980392156862745, 1.0),\n",
    "                            (1.0, 0.8274509803921568, 0.4980392156862745, 1.0),\n",
    "                            (1.0, 0.8274509803921568, 0.4980392156862745, 1.0),\n",
    "                            (0.38823529411764707, 0.0, 0.0, 1.0),\n",
    "                            (0.38823529411764707, 0.0, 0.0, 1.0),\n",
    "                            (0.38823529411764707, 0.0, 0.0, 1.0),\n",
    "                            (0.38823529411764707, 0.0, 0.0, 1.0),\n",
    "                            (0.38823529411764707, 0.0, 0.0, 1.0),\n",
    "                            (0.38823529411764707, 0.0, 0.0, 1.0),\n",
    "                            (0.38823529411764707, 0.0, 0.0, 1.0),\n",
    "                            (0.38823529411764707, 0.0, 0.0, 1.0),\n",
    "                            (0.38823529411764707, 0.0, 0.0, 1.0),\n",
    "                            (0.38823529411764707, 0.0, 0.0, 1.0),\n",
    "                            (0.38823529411764707, 0.0, 0.0, 1.0),\n",
    "                            (0.38823529411764707, 0.0, 0.0, 1.0),\n",
    "                            (0.38823529411764707, 0.0, 0.0, 1.0),\n",
    "                            (0.38823529411764707, 0.0, 0.0, 1.0),\n",
    "                            (0.38823529411764707, 0.0, 0.0, 1.0),\n",
    "                            (0.38823529411764707, 0.0, 0.0, 1.0),\n",
    "                            (0.38823529411764707, 0.0, 0.0, 1.0),\n",
    "                            (0.38823529411764707, 0.0, 0.0, 1.0),\n",
    "                            (0.38823529411764707, 0.0, 0.0, 1.0),\n",
    "                            (0.6666666666666666, 0.0, 0.0, 1.0),\n",
    "                            (0.6666666666666666, 0.0, 0.0, 1.0),\n",
    "                            (0.6666666666666666, 0.0, 0.0, 1.0),\n",
    "                            (0.6666666666666666, 0.0, 0.0, 1.0),\n",
    "                            (0.6666666666666666, 0.0, 0.0, 1.0),\n",
    "                            (0.6666666666666666, 0.0, 0.0, 1.0),\n",
    "                            (0.6666666666666666, 0.0, 0.0, 1.0),\n",
    "                            (0.6666666666666666, 0.0, 0.0, 1.0),\n",
    "                            (0.6666666666666666, 0.0, 0.0, 1.0),\n",
    "                            (0.6666666666666666, 0.0, 0.0, 1.0),\n",
    "                            (0.6666666666666666, 0.0, 0.0, 1.0),\n",
    "                            (0.6666666666666666, 0.0, 0.0, 1.0),\n",
    "                            (0.6666666666666666, 0.0, 0.0, 1.0),\n",
    "                            (0.6666666666666666, 0.0, 0.0, 1.0),\n",
    "                            (0.6666666666666666, 0.0, 0.0, 1.0),\n",
    "                            (0.6666666666666666, 0.0, 0.0, 1.0),\n",
    "                            (0.6666666666666666, 0.0, 0.0, 1.0),\n",
    "                            (0.6666666666666666, 0.0, 0.0, 1.0),\n",
    "                            (0.6666666666666666, 0.0, 0.0, 1.0),\n",
    "                            (0.38823529411764707, 0.0, 0.0, 1.0),\n",
    "                            (0.38823529411764707, 0.0, 0.0, 1.0),\n",
    "                            (0.38823529411764707, 0.0, 0.0, 1.0),\n",
    "                            (0.38823529411764707, 0.0, 0.0, 1.0),\n",
    "                            (0.38823529411764707, 0.0, 0.0, 1.0),\n",
    "                            (0.38823529411764707, 0.0, 0.0, 1.0),\n",
    "                            (0.38823529411764707, 0.0, 0.0, 1.0),\n",
    "                            (0.38823529411764707, 0.0, 0.0, 1.0),\n",
    "                            (0.38823529411764707, 0.0, 0.0, 1.0),\n",
    "                            (0.38823529411764707, 0.0, 0.0, 1.0),\n",
    "                            (0.38823529411764707, 0.0, 0.0, 1.0),\n",
    "                            (0.38823529411764707, 0.0, 0.0, 1.0),\n",
    "                            (0.38823529411764707, 0.0, 0.0, 1.0),\n",
    "                            (0.38823529411764707, 0.0, 0.0, 1.0),\n",
    "                            (0.38823529411764707, 0.0, 0.0, 1.0),\n",
    "                            (0.38823529411764707, 0.0, 0.0, 1.0),\n",
    "                            (0.38823529411764707, 0.0, 0.0, 1.0),\n",
    "                            (0.38823529411764707, 0.0, 0.0, 1.0),\n",
    "                            (0.38823529411764707, 0.0, 0.0, 1.0)])"
   ]
  },
  {
   "cell_type": "code",
   "execution_count": 117,
   "metadata": {
    "collapsed": true
   },
   "outputs": [],
   "source": [
    "data = np.array([[101,1,1],[2,2,2],[5,3,0]])"
   ]
  },
  {
   "cell_type": "code",
   "execution_count": 118,
   "metadata": {},
   "outputs": [
    {
     "data": {
      "text/plain": [
       "<matplotlib.axes._subplots.AxesSubplot at 0x1867e34b780>"
      ]
     },
     "execution_count": 118,
     "metadata": {},
     "output_type": "execute_result"
    },
    {
     "data": {
      "image/png": "[encoded data removed]",
      "text/plain": [
       "<matplotlib.figure.Figure at 0x1867e483198>"
      ]
     },
     "metadata": {},
     "output_type": "display_data"
    }
   ],
   "source": [
    "ncolors = 5\n",
    "norm2 = matplotlib.colors.BoundaryNorm(np.arange(ncolors+1)-0.5, ncolors)\n",
    "sns.heatmap(data, cmap=CustomColor, annot=True, cbar=True, linewidth=0.5, norm=norm2)"
   ]
  },
  {
   "cell_type": "code",
   "execution_count": null,
   "metadata": {
    "collapsed": true
   },
   "outputs": [],
   "source": []
  },
  {
   "cell_type": "code",
   "execution_count": null,
   "metadata": {
    "collapsed": true
   },
   "outputs": [],
   "source": []
  },
  {
   "cell_type": "code",
   "execution_count": 22,
   "metadata": {},
   "outputs": [
    {
     "data": {
      "text/plain": [
       "<matplotlib.axes._subplots.AxesSubplot at 0x1c0f5f8b940>"
      ]
     },
     "execution_count": 22,
     "metadata": {},
     "output_type": "execute_result"
    },
    {
     "data": {
      "image/png": "[encoded data removed]",
      "text/plain": [
       "<matplotlib.figure.Figure at 0x1c0f746cfd0>"
      ]
     },
     "metadata": {},
     "output_type": "display_data"
    }
   ],
   "source": [
    "# Dictionary\n",
    "cdict = {}\n",
    "aux = 0\n",
    "for i in ColorsID:\n",
    "    cdict[i] = MColors[aux]\n",
    "    aux+=1\n",
    "cdict\n",
    "\n",
    "# Vals and keys\n",
    "ckeys, cvals = zip(*cdict.items())\n",
    "\n",
    "# Colormap\n",
    "my_cmap = ListedColormap(cvals)\n",
    "\n",
    "# Plot\n",
    "sns.heatmap(data, cmap=my_cmap, annot=True, \n",
    "            cbar=False, linewidth=0.5, \n",
    "            linecolor=\"w\", square=True)"
   ]
  },
  {
   "cell_type": "code",
   "execution_count": 23,
   "metadata": {},
   "outputs": [
    {
     "name": "stdout",
     "output_type": "stream",
     "text": [
      "4\n"
     ]
    },
    {
     "data": {
      "image/png": "[encoded data removed]",
      "text/plain": [
       "<matplotlib.figure.Figure at 0x1c0f74fe358>"
      ]
     },
     "metadata": {},
     "output_type": "display_data"
    }
   ],
   "source": [
    "from mpl_toolkits.mplot3d import Axes3D\n",
    "from matplotlib import cm\n",
    "import matplotlib.pyplot as plt\n",
    "import numpy as np\n",
    "\n",
    "fig = plt.figure()\n",
    "ax = fig.gca(projection='3d')\n",
    "\n",
    "# as plot_surface needs 2D arrays as input\n",
    "x = np.arange(4)\n",
    "y = np.arange(4)\n",
    "# we make a meshgrid from the x,y data\n",
    "X, Y = np.meshgrid(x, y)\n",
    "Z = np.sqrt(X**2 + Y**2)\n",
    "\n",
    "\n",
    "# data_value shall be represented by color\n",
    "data_value = np.random.rand(len(y), len(x))\n",
    "# map the data to rgba values from a colormap\n",
    "colors = cm.ScalarMappable(cmap = \"viridis\").to_rgba(data_value)\n",
    "print(len(colors))\n",
    "\n",
    "# plot_surface with points X,Y,Z and data_value as colors\n",
    "surf = ax.plot_surface(X, Y, Z, rstride=1, cstride=1, facecolors=colors,\n",
    "                       linewidth=1.0, antialiased=True)\n",
    "\n",
    "plt.show()\n"
   ]
  },
  {
   "cell_type": "code",
   "execution_count": null,
   "metadata": {
    "collapsed": true
   },
   "outputs": [],
   "source": [
    "x"
   ]
  },
  {
   "cell_type": "code",
   "execution_count": null,
   "metadata": {
    "collapsed": true
   },
   "outputs": [],
   "source": [
    "X"
   ]
  },
  {
   "cell_type": "code",
   "execution_count": null,
   "metadata": {
    "collapsed": true
   },
   "outputs": [],
   "source": [
    "y"
   ]
  },
  {
   "cell_type": "code",
   "execution_count": null,
   "metadata": {
    "collapsed": true
   },
   "outputs": [],
   "source": [
    "Y"
   ]
  },
  {
   "cell_type": "code",
   "execution_count": 121,
   "metadata": {
    "collapsed": true
   },
   "outputs": [
    {
     "ename": "NameError",
     "evalue": "name 'Z' is not defined",
     "output_type": "error",
     "traceback": [
      "\u001b[1;31m---------------------------------------------------------------------------\u001b[0m",
      "\u001b[1;31mNameError\u001b[0m                                 Traceback (most recent call last)",
      "\u001b[1;32m<ipython-input-121-b4379bcb7951>\u001b[0m in \u001b[0;36m<module>\u001b[1;34m()\u001b[0m\n\u001b[1;32m----> 1\u001b[1;33m \u001b[0mZ\u001b[0m\u001b[1;33m\u001b[0m\u001b[0m\n\u001b[0m",
      "\u001b[1;31mNameError\u001b[0m: name 'Z' is not defined"
     ]
    }
   ],
   "source": [
    "Z"
   ]
  },
  {
   "cell_type": "code",
   "execution_count": 157,
   "metadata": {},
   "outputs": [],
   "source": [
    "data = np.array([[1,   1,   1],\n",
    "               [  2,   4,   2],\n",
    "               [  1,   3,   10]])"
   ]
  },
  {
   "cell_type": "code",
   "execution_count": 161,
   "metadata": {},
   "outputs": [
    {
     "data": {
      "text/plain": [
       "array([[0.81960784, 1.        , 0.45098039, 1.        ],\n",
       "       [0.13333333, 0.4       , 0.2       , 1.        ],\n",
       "       [0.51372549, 0.78039216, 0.58431373, 1.        ],\n",
       "       [0.43921569, 0.65882353, 0.        , 1.        ],\n",
       "       [0.8745098 , 0.72156863, 0.90196078, 1.        ]])"
      ]
     },
     "execution_count": 161,
     "metadata": {},
     "output_type": "execute_result"
    }
   ],
   "source": [
    "myColorsNP = np.array([(209/255.0,255/255.0,115/255.0, 1.0),    # C1\n",
    "                   (34/255.0,102/255.0,51/255.0, 1.0),      # C2\n",
    "                   (131/255.0,199/255.0,149/255.0,1.0),     # C3\n",
    "                   (112/255.0,168/255.0,0/255.0,1.0),       # C4      \n",
    "                   (223/255.0,184/255.0,230/255.0,1.0)])\n",
    "myColorsNP"
   ]
  },
  {
   "cell_type": "code",
   "execution_count": 167,
   "metadata": {},
   "outputs": [
    {
     "data": {
      "image/png": "[encoded data removed]",
      "text/plain": [
       "<matplotlib.figure.Figure at 0x1867fae9ef0>"
      ]
     },
     "metadata": {},
     "output_type": "display_data"
    }
   ],
   "source": [
    "data = np.array([[1,   1,   1],\n",
    "               [  2,   4,   2],\n",
    "               [  1,   2,   1]])\n",
    "myColosrDict = {1:(209/255.0,255/255.0,115/255.0, 1.0),    # C1\n",
    "                2:(34/255.0,102/255.0,51/255.0, 1.0),      # C2\n",
    "                3:(131/255.0,199/255.0,149/255.0,1.0),     # C3\n",
    "                4:(112/255.0,168/255.0,0/255.0,1.0),       # C4      \n",
    "                5:(223/255.0,184/255.0,230/255.0,1.0)}\n",
    "\n",
    "mykeys = np.unique(data)\n",
    "myColors = [myColosrDict[x] for x in mykeys]\n",
    "\n",
    "import matplotlib.pyplot as plt\n",
    "import pandas\n",
    "import seaborn.apionly as sns\n",
    "from matplotlib.colors import LinearSegmentedColormap\n",
    "\n",
    "sns.set(font_scale=0.8)\n",
    "\n",
    "# For only three colors, it's easier to choose them yourself.\n",
    "# If you still really want to generate a colormap with cubehelix_palette instead,\n",
    "# add a cbar_kws={\"boundaries\": linspace(-1, 1, 4)} to the heatmap invocation\n",
    "# to have it generate a discrete colorbar instead of a continous one.\n",
    "#myColors = ((0.8, 0.0, 0.0, 1.0), (0.0, 0.8, 0.0, 1.0), (0.0, 0.0, 0.8, 1.0))\n",
    "cmap = LinearSegmentedColormap.from_list('Custom', myColors, len(myColors))\n",
    "\n",
    "ax = sns.heatmap(data, cmap=cmap, linewidths=.5, linecolor='lightgray', annot=True)\n",
    "\n",
    "# Manually specify colorbar labelling after it's been generated\n",
    "colorbar = ax.collections[0].colorbar\n",
    "colorbar.set_ticks([0, 1, 2, 3, 4])\n",
    "colorbar.set_ticklabels(['0', '1', '2', '3', '4'])\n",
    "\n",
    "# Only y-axis labels need their rotation set, x-axis labels already have a rotation of 0\n",
    "_, labels = plt.yticks()\n",
    "plt.setp(labels, rotation=0)\n",
    "\n",
    "plt.show()\n",
    "\n"
   ]
  },
  {
   "cell_type": "code",
   "execution_count": 159,
   "metadata": {},
   "outputs": [
    {
     "ename": "IndexError",
     "evalue": "index 10 is out of bounds for axis 0 with size 5",
     "output_type": "error",
     "traceback": [
      "\u001b[1;31m---------------------------------------------------------------------------\u001b[0m",
      "\u001b[1;31mIndexError\u001b[0m                                Traceback (most recent call last)",
      "\u001b[1;32m<ipython-input-159-afacff4553f8>\u001b[0m in \u001b[0;36m<module>\u001b[1;34m()\u001b[0m\n\u001b[1;32m----> 1\u001b[1;33m \u001b[0mmyColors\u001b[0m \u001b[1;33m=\u001b[0m \u001b[0mmyColorsNP\u001b[0m\u001b[1;33m[\u001b[0m\u001b[0mnp\u001b[0m\u001b[1;33m.\u001b[0m\u001b[0munique\u001b[0m\u001b[1;33m(\u001b[0m\u001b[0mdata\u001b[0m\u001b[1;33m)\u001b[0m\u001b[1;33m]\u001b[0m\u001b[1;33m\u001b[0m\u001b[0m\n\u001b[0m",
      "\u001b[1;31mIndexError\u001b[0m: index 10 is out of bounds for axis 0 with size 5"
     ]
    }
   ],
   "source": [
    "myColors = myColorsNP[np.unique(data)]"
   ]
  },
  {
   "cell_type": "code",
   "execution_count": 160,
   "metadata": {},
   "outputs": [
    {
     "data": {
      "image/png": "[encoded data removed]",
      "text/plain": [
       "<matplotlib.figure.Figure at 0x1867f534b38>"
      ]
     },
     "metadata": {},
     "output_type": "display_data"
    }
   ],
   "source": [
    "import matplotlib.pyplot as plt\n",
    "import pandas\n",
    "import seaborn.apionly as sns\n",
    "from matplotlib.colors import LinearSegmentedColormap\n",
    "\n",
    "sns.set(font_scale=0.8)\n",
    "\n",
    "# For only three colors, it's easier to choose them yourself.\n",
    "# If you still really want to generate a colormap with cubehelix_palette instead,\n",
    "# add a cbar_kws={\"boundaries\": linspace(-1, 1, 4)} to the heatmap invocation\n",
    "# to have it generate a discrete colorbar instead of a continous one.\n",
    "#myColors = ((0.8, 0.0, 0.0, 1.0), (0.0, 0.8, 0.0, 1.0), (0.0, 0.0, 0.8, 1.0))\n",
    "cmap = LinearSegmentedColormap.from_list('Custom', myColors, len(myColors))\n",
    "\n",
    "ax = sns.heatmap(data, cmap=cmap, linewidths=.5, linecolor='lightgray', annot=True)\n",
    "\n",
    "# Manually specify colorbar labelling after it's been generated\n",
    "colorbar = ax.collections[0].colorbar\n",
    "colorbar.set_ticks([0, 1, 2, 3, 4])\n",
    "colorbar.set_ticklabels(['0', '1', '2', '3', '4'])\n",
    "\n",
    "# Only y-axis labels need their rotation set, x-axis labels already have a rotation of 0\n",
    "_, labels = plt.yticks()\n",
    "plt.setp(labels, rotation=0)\n",
    "\n",
    "plt.show()"
   ]
  },
  {
   "cell_type": "code",
   "execution_count": null,
   "metadata": {
    "collapsed": true
   },
   "outputs": [],
   "source": []
  },
  {
   "cell_type": "code",
   "execution_count": null,
   "metadata": {
    "collapsed": true
   },
   "outputs": [],
   "source": []
  },
  {
   "cell_type": "code",
   "execution_count": null,
   "metadata": {
    "collapsed": true
   },
   "outputs": [],
   "source": []
  },
  {
   "cell_type": "code",
   "execution_count": null,
   "metadata": {
    "collapsed": true
   },
   "outputs": [],
   "source": []
  },
  {
   "cell_type": "code",
   "execution_count": null,
   "metadata": {
    "collapsed": true
   },
   "outputs": [],
   "source": []
  },
  {
   "cell_type": "code",
   "execution_count": 271,
   "metadata": {
    "code_folding": [],
    "collapsed": true
   },
   "outputs": [],
   "source": [
    "import matplotlib.pyplot as plt\n",
    "import pandas\n",
    "import seaborn.apionly as sns\n",
    "from matplotlib.colors import LinearSegmentedColormap\n",
    "import pandas as pd\n",
    "import numpy as np\n",
    "import os\n",
    "\n",
    "def ForestPlot(LookupTable, data, Path, namePlot=\"Initial Forest\"):\n",
    "    # Colors dictionary (container)\n",
    "    myColorsD = {}\n",
    "    \n",
    "    # DF from lookup table\n",
    "    DFColors = pd.read_csv(LookupTable)\n",
    "    ColorsID = DFColors[\"grid_value\"].values\n",
    "    \n",
    "    # Populate dict\n",
    "    MColors = DFColors[[\" r\", \" g\", \" b\"]].values / 255.0\n",
    "    MColors = [tuple(np.concatenate((i,[1.0]))) for i in MColors]\n",
    "    \n",
    "    aux = 0\n",
    "    myColorsD = {}\n",
    "    for i in ColorsID:\n",
    "        myColorsD[i] = MColors[aux]\n",
    "        aux += 1\n",
    "    \n",
    "    mykeys = np.unique(data)\n",
    "    \n",
    "    aux = 0\n",
    "    for val in mykeys:\n",
    "        data[data == val] = aux\n",
    "        aux += 1\n",
    "        \n",
    "    print(\"Unique values:\", mykeys)\n",
    "    myColors = [myColorsD[x] for x in mykeys]\n",
    "    print(\"myColors:\", myColors)\n",
    "    \n",
    "    # Plot\n",
    "    # Figure size\n",
    "    plt.figure(figsize = (15, 9)) \n",
    "\n",
    "    # Font sizes\n",
    "    plt.rcParams['font.size'] = 16\n",
    "    plt.rcParams['axes.labelsize'] = 16\n",
    "    plt.rcParams['axes.titlesize'] = 16\n",
    "    plt.rcParams['xtick.labelsize'] = 16\n",
    "    plt.rcParams['ytick.labelsize'] = 16\n",
    "    plt.rcParams['legend.fontsize'] = 16\n",
    "    plt.rcParams['figure.titlesize'] = 18\n",
    "\n",
    "    # axes\n",
    "    ax = plt.subplot(111)                    \n",
    "    ax.spines[\"top\"].set_visible(False)  \n",
    "    ax.spines[\"right\"].set_visible(False)\n",
    "    ax.get_xaxis().tick_bottom()  \n",
    "    ax.get_yaxis().tick_left() \n",
    "\n",
    "    # Title and labels\n",
    "    plt.title(\"Initial Landscape\")\n",
    "    if len(mykeys) > 1: \n",
    "        cmap = LinearSegmentedColormap.from_list('Custom', myColors, len(myColors))\n",
    "        ax = sns.heatmap(data, cmap=cmap, linewidths=.5, linecolor='lightgray', annot=False, cbar=False)\n",
    "\n",
    "    else:\n",
    "        cmap = colors.ListedColormap(myColors)\n",
    "        boundaries = [-1, 1]\n",
    "        norm = colors.BoundaryNorm(boundaries, cmap.N, clip=True)\n",
    "        ax = sns.heatmap(data, cmap=cmap, linewidths=.5, linecolor='lightgray', annot=False, cbar=False)\n",
    "        \n",
    "    # Only y-axis labels need their rotation set, x-axis labels already have a rotation of 0\n",
    "    _, labels = plt.yticks()\n",
    "    plt.setp(labels, rotation=0)\n",
    "    plt.savefig(os.path.join(Path, namePlot + \".png\"), dpi=200, bbox_inches='tight', \n",
    "                pad_inches=0, transparent=False)\n",
    "        \n",
    "    plt.close(\"all\")\n",
    "\n"
   ]
  },
  {
   "cell_type": "code",
   "execution_count": 273,
   "metadata": {},
   "outputs": [
    {
     "name": "stdout",
     "output_type": "stream",
     "text": [
      "Unique values: [1 5]\n",
      "myColors: [(0.8196078431372549, 1.0, 0.45098039215686275, 1.0), (0.8745098039215686, 0.7215686274509804, 0.9019607843137255, 1.0)]\n"
     ]
    }
   ],
   "source": [
    "CDict = r'C:/Users/Lenovo/Documents/GitHub/MADRL_Fire/instances/heterogeneous/Sub20x20/fbp_lookup_table.csv'\n",
    "data = np.array([[1,   1,   1],\n",
    "               [  1,   5,   1],\n",
    "               [  1,   1,   1]])\n",
    "ForestPlot(CDict, data, Path=\"C:/Users/Lenovo/Desktop\")"
   ]
  },
  {
   "cell_type": "code",
   "execution_count": null,
   "metadata": {
    "collapsed": true
   },
   "outputs": [],
   "source": []
  },
  {
   "cell_type": "code",
   "execution_count": 173,
   "metadata": {},
   "outputs": [
    {
     "data": {
      "text/plain": [
       "[(0.8196078431372549, 1.0, 0.45098039215686275, 1.0),\n",
       " (0.13333333333333333, 0.4, 0.2, 1.0),\n",
       " (0.5137254901960784, 0.7803921568627451, 0.5843137254901961, 1.0),\n",
       " (0.4392156862745098, 0.6588235294117647, 0.0, 1.0),\n",
       " (0.8745098039215686, 0.7215686274509804, 0.9019607843137255, 1.0),\n",
       " (0.6745098039215687, 0.4, 0.9294117647058824, 1.0),\n",
       " (0.4392156862745098, 0.047058823529411764, 0.9490196078431372, 1.0),\n",
       " (0.7686274509803922, 0.7411764705882353, 0.592156862745098, 1.0),\n",
       " (0.5372549019607843, 0.4392156862745098, 0.26666666666666666, 1.0),\n",
       " (0.7686274509803922, 0.7411764705882353, 0.592156862745098, 1.0),\n",
       " (0.984313725490196, 0.7450980392156863, 0.7254901960784313, 1.0),\n",
       " (0.9686274509803922, 0.40784313725490196, 0.6313725490196078, 1.0),\n",
       " (0.6823529411764706, 0.00392156862745098, 0.49411764705882355, 1.0),\n",
       " (1.0, 1.0, 0.7450980392156863, 1.0),\n",
       " (0.9019607843137255, 0.9019607843137255, 0.0, 1.0),\n",
       " (1.0, 0.8274509803921568, 0.4980392156862745, 1.0),\n",
       " (1.0, 0.6666666666666666, 0.0, 1.0),\n",
       " (1.0, 0.8274509803921568, 0.4980392156862745, 1.0),\n",
       " (0.38823529411764707, 0.0, 0.0, 1.0),\n",
       " (0.6666666666666666, 0.0, 0.0, 1.0),\n",
       " (0.38823529411764707, 0.0, 0.0, 1.0),\n",
       " (1.0, 1.0, 1.0, 1.0),\n",
       " (0.5098039215686274, 0.5098039215686274, 0.5098039215686274, 1.0),\n",
       " (0.45098039215686275, 0.8745098039215686, 1.0, 1.0),\n",
       " (0.0, 0.0, 0.0, 1.0),\n",
       " (0.6509803921568628, 0.6509803921568628, 0.6509803921568628, 1.0),\n",
       " (0.8, 0.8, 0.8, 1.0),\n",
       " (1.0, 0.8274509803921568, 0.4980392156862745, 1.0),\n",
       " (1.0, 0.8274509803921568, 0.4980392156862745, 1.0),\n",
       " (1.0, 0.8274509803921568, 0.4980392156862745, 1.0),\n",
       " (1.0, 0.8274509803921568, 0.4980392156862745, 1.0),\n",
       " (1.0, 0.8274509803921568, 0.4980392156862745, 1.0),\n",
       " (1.0, 0.8274509803921568, 0.4980392156862745, 1.0),\n",
       " (1.0, 0.8274509803921568, 0.4980392156862745, 1.0),\n",
       " (1.0, 0.8274509803921568, 0.4980392156862745, 1.0),\n",
       " (1.0, 0.8274509803921568, 0.4980392156862745, 1.0),\n",
       " (1.0, 0.8274509803921568, 0.4980392156862745, 1.0),\n",
       " (1.0, 0.8274509803921568, 0.4980392156862745, 1.0),\n",
       " (1.0, 0.8274509803921568, 0.4980392156862745, 1.0),\n",
       " (1.0, 0.8274509803921568, 0.4980392156862745, 1.0),\n",
       " (1.0, 0.8274509803921568, 0.4980392156862745, 1.0),\n",
       " (1.0, 0.8274509803921568, 0.4980392156862745, 1.0),\n",
       " (1.0, 0.8274509803921568, 0.4980392156862745, 1.0),\n",
       " (1.0, 0.8274509803921568, 0.4980392156862745, 1.0),\n",
       " (1.0, 0.8274509803921568, 0.4980392156862745, 1.0),\n",
       " (1.0, 0.8274509803921568, 0.4980392156862745, 1.0),\n",
       " (1.0, 0.6666666666666666, 0.0, 1.0),\n",
       " (1.0, 0.6666666666666666, 0.0, 1.0),\n",
       " (1.0, 0.6666666666666666, 0.0, 1.0),\n",
       " (1.0, 0.6666666666666666, 0.0, 1.0),\n",
       " (1.0, 0.6666666666666666, 0.0, 1.0),\n",
       " (1.0, 0.6666666666666666, 0.0, 1.0),\n",
       " (1.0, 0.6666666666666666, 0.0, 1.0),\n",
       " (1.0, 0.6666666666666666, 0.0, 1.0),\n",
       " (1.0, 0.6666666666666666, 0.0, 1.0),\n",
       " (1.0, 0.6666666666666666, 0.0, 1.0),\n",
       " (1.0, 0.6666666666666666, 0.0, 1.0),\n",
       " (1.0, 0.6666666666666666, 0.0, 1.0),\n",
       " (1.0, 0.6666666666666666, 0.0, 1.0),\n",
       " (1.0, 0.6666666666666666, 0.0, 1.0),\n",
       " (1.0, 0.6666666666666666, 0.0, 1.0),\n",
       " (1.0, 0.6666666666666666, 0.0, 1.0),\n",
       " (1.0, 0.6666666666666666, 0.0, 1.0),\n",
       " (1.0, 0.6666666666666666, 0.0, 1.0),\n",
       " (1.0, 0.6666666666666666, 0.0, 1.0),\n",
       " (1.0, 0.8274509803921568, 0.4980392156862745, 1.0),\n",
       " (1.0, 0.8274509803921568, 0.4980392156862745, 1.0),\n",
       " (1.0, 0.8274509803921568, 0.4980392156862745, 1.0),\n",
       " (1.0, 0.8274509803921568, 0.4980392156862745, 1.0),\n",
       " (1.0, 0.8274509803921568, 0.4980392156862745, 1.0),\n",
       " (1.0, 0.8274509803921568, 0.4980392156862745, 1.0),\n",
       " (1.0, 0.8274509803921568, 0.4980392156862745, 1.0),\n",
       " (1.0, 0.8274509803921568, 0.4980392156862745, 1.0),\n",
       " (1.0, 0.8274509803921568, 0.4980392156862745, 1.0),\n",
       " (1.0, 0.8274509803921568, 0.4980392156862745, 1.0),\n",
       " (1.0, 0.8274509803921568, 0.4980392156862745, 1.0),\n",
       " (1.0, 0.8274509803921568, 0.4980392156862745, 1.0),\n",
       " (1.0, 0.8274509803921568, 0.4980392156862745, 1.0),\n",
       " (1.0, 0.8274509803921568, 0.4980392156862745, 1.0),\n",
       " (1.0, 0.8274509803921568, 0.4980392156862745, 1.0),\n",
       " (1.0, 0.8274509803921568, 0.4980392156862745, 1.0),\n",
       " (1.0, 0.8274509803921568, 0.4980392156862745, 1.0),\n",
       " (1.0, 0.8274509803921568, 0.4980392156862745, 1.0),\n",
       " (1.0, 0.8274509803921568, 0.4980392156862745, 1.0),\n",
       " (0.38823529411764707, 0.0, 0.0, 1.0),\n",
       " (0.38823529411764707, 0.0, 0.0, 1.0),\n",
       " (0.38823529411764707, 0.0, 0.0, 1.0),\n",
       " (0.38823529411764707, 0.0, 0.0, 1.0),\n",
       " (0.38823529411764707, 0.0, 0.0, 1.0),\n",
       " (0.38823529411764707, 0.0, 0.0, 1.0),\n",
       " (0.38823529411764707, 0.0, 0.0, 1.0),\n",
       " (0.38823529411764707, 0.0, 0.0, 1.0),\n",
       " (0.38823529411764707, 0.0, 0.0, 1.0),\n",
       " (0.38823529411764707, 0.0, 0.0, 1.0),\n",
       " (0.38823529411764707, 0.0, 0.0, 1.0),\n",
       " (0.38823529411764707, 0.0, 0.0, 1.0),\n",
       " (0.38823529411764707, 0.0, 0.0, 1.0),\n",
       " (0.38823529411764707, 0.0, 0.0, 1.0),\n",
       " (0.38823529411764707, 0.0, 0.0, 1.0),\n",
       " (0.38823529411764707, 0.0, 0.0, 1.0),\n",
       " (0.38823529411764707, 0.0, 0.0, 1.0),\n",
       " (0.38823529411764707, 0.0, 0.0, 1.0),\n",
       " (0.38823529411764707, 0.0, 0.0, 1.0),\n",
       " (0.6666666666666666, 0.0, 0.0, 1.0),\n",
       " (0.6666666666666666, 0.0, 0.0, 1.0),\n",
       " (0.6666666666666666, 0.0, 0.0, 1.0),\n",
       " (0.6666666666666666, 0.0, 0.0, 1.0),\n",
       " (0.6666666666666666, 0.0, 0.0, 1.0),\n",
       " (0.6666666666666666, 0.0, 0.0, 1.0),\n",
       " (0.6666666666666666, 0.0, 0.0, 1.0),\n",
       " (0.6666666666666666, 0.0, 0.0, 1.0),\n",
       " (0.6666666666666666, 0.0, 0.0, 1.0),\n",
       " (0.6666666666666666, 0.0, 0.0, 1.0),\n",
       " (0.6666666666666666, 0.0, 0.0, 1.0),\n",
       " (0.6666666666666666, 0.0, 0.0, 1.0),\n",
       " (0.6666666666666666, 0.0, 0.0, 1.0),\n",
       " (0.6666666666666666, 0.0, 0.0, 1.0),\n",
       " (0.6666666666666666, 0.0, 0.0, 1.0),\n",
       " (0.6666666666666666, 0.0, 0.0, 1.0),\n",
       " (0.6666666666666666, 0.0, 0.0, 1.0),\n",
       " (0.6666666666666666, 0.0, 0.0, 1.0),\n",
       " (0.6666666666666666, 0.0, 0.0, 1.0),\n",
       " (0.38823529411764707, 0.0, 0.0, 1.0),\n",
       " (0.38823529411764707, 0.0, 0.0, 1.0),\n",
       " (0.38823529411764707, 0.0, 0.0, 1.0),\n",
       " (0.38823529411764707, 0.0, 0.0, 1.0),\n",
       " (0.38823529411764707, 0.0, 0.0, 1.0),\n",
       " (0.38823529411764707, 0.0, 0.0, 1.0),\n",
       " (0.38823529411764707, 0.0, 0.0, 1.0),\n",
       " (0.38823529411764707, 0.0, 0.0, 1.0),\n",
       " (0.38823529411764707, 0.0, 0.0, 1.0),\n",
       " (0.38823529411764707, 0.0, 0.0, 1.0),\n",
       " (0.38823529411764707, 0.0, 0.0, 1.0),\n",
       " (0.38823529411764707, 0.0, 0.0, 1.0),\n",
       " (0.38823529411764707, 0.0, 0.0, 1.0),\n",
       " (0.38823529411764707, 0.0, 0.0, 1.0),\n",
       " (0.38823529411764707, 0.0, 0.0, 1.0),\n",
       " (0.38823529411764707, 0.0, 0.0, 1.0),\n",
       " (0.38823529411764707, 0.0, 0.0, 1.0),\n",
       " (0.38823529411764707, 0.0, 0.0, 1.0),\n",
       " (0.38823529411764707, 0.0, 0.0, 1.0)]"
      ]
     },
     "execution_count": 173,
     "metadata": {},
     "output_type": "execute_result"
    }
   ],
   "source": [
    "MColors = DFColors[[\" r\", \" g\", \" b\"]].values / 255.0\n",
    "MColors = [tuple(np.concatenate((i,[1.0]))) for i in MColors]\n",
    "MColors"
   ]
  },
  {
   "cell_type": "code",
   "execution_count": 274,
   "metadata": {},
   "outputs": [
    {
     "data": {
      "text/plain": [
       "{1: (0.8196078431372549, 1.0, 0.45098039215686275, 1.0),\n",
       " 2: (0.13333333333333333, 0.4, 0.2, 1.0),\n",
       " 3: (0.5137254901960784, 0.7803921568627451, 0.5843137254901961, 1.0),\n",
       " 4: (0.4392156862745098, 0.6588235294117647, 0.0, 1.0),\n",
       " 5: (0.8745098039215686, 0.7215686274509804, 0.9019607843137255, 1.0),\n",
       " 6: (0.6745098039215687, 0.4, 0.9294117647058824, 1.0),\n",
       " 7: (0.4392156862745098, 0.047058823529411764, 0.9490196078431372, 1.0),\n",
       " 11: (0.7686274509803922, 0.7411764705882353, 0.592156862745098, 1.0),\n",
       " 12: (0.5372549019607843, 0.4392156862745098, 0.26666666666666666, 1.0),\n",
       " 13: (0.7686274509803922, 0.7411764705882353, 0.592156862745098, 1.0),\n",
       " 21: (0.984313725490196, 0.7450980392156863, 0.7254901960784313, 1.0),\n",
       " 22: (0.9686274509803922, 0.40784313725490196, 0.6313725490196078, 1.0),\n",
       " 23: (0.6823529411764706, 0.00392156862745098, 0.49411764705882355, 1.0),\n",
       " 31: (1.0, 1.0, 0.7450980392156863, 1.0),\n",
       " 32: (0.9019607843137255, 0.9019607843137255, 0.0, 1.0),\n",
       " 40: (1.0, 0.8274509803921568, 0.4980392156862745, 1.0),\n",
       " 50: (1.0, 0.6666666666666666, 0.0, 1.0),\n",
       " 60: (1.0, 0.8274509803921568, 0.4980392156862745, 1.0),\n",
       " 70: (0.38823529411764707, 0.0, 0.0, 1.0),\n",
       " 80: (0.6666666666666666, 0.0, 0.0, 1.0),\n",
       " 90: (0.38823529411764707, 0.0, 0.0, 1.0),\n",
       " 100: (1.0, 1.0, 1.0, 1.0),\n",
       " 101: (0.5098039215686274, 0.5098039215686274, 0.5098039215686274, 1.0),\n",
       " 102: (0.45098039215686275, 0.8745098039215686, 1.0, 1.0),\n",
       " 103: (0.0, 0.0, 0.0, 1.0),\n",
       " 104: (0.6509803921568628, 0.6509803921568628, 0.6509803921568628, 1.0),\n",
       " 105: (0.8, 0.8, 0.8, 1.0),\n",
       " 405: (1.0, 0.8274509803921568, 0.4980392156862745, 1.0),\n",
       " 410: (1.0, 0.8274509803921568, 0.4980392156862745, 1.0),\n",
       " 415: (1.0, 0.8274509803921568, 0.4980392156862745, 1.0),\n",
       " 420: (1.0, 0.8274509803921568, 0.4980392156862745, 1.0),\n",
       " 425: (1.0, 0.8274509803921568, 0.4980392156862745, 1.0),\n",
       " 430: (1.0, 0.8274509803921568, 0.4980392156862745, 1.0),\n",
       " 435: (1.0, 0.8274509803921568, 0.4980392156862745, 1.0),\n",
       " 440: (1.0, 0.8274509803921568, 0.4980392156862745, 1.0),\n",
       " 445: (1.0, 0.8274509803921568, 0.4980392156862745, 1.0),\n",
       " 450: (1.0, 0.8274509803921568, 0.4980392156862745, 1.0),\n",
       " 455: (1.0, 0.8274509803921568, 0.4980392156862745, 1.0),\n",
       " 460: (1.0, 0.8274509803921568, 0.4980392156862745, 1.0),\n",
       " 465: (1.0, 0.8274509803921568, 0.4980392156862745, 1.0),\n",
       " 470: (1.0, 0.8274509803921568, 0.4980392156862745, 1.0),\n",
       " 475: (1.0, 0.8274509803921568, 0.4980392156862745, 1.0),\n",
       " 480: (1.0, 0.8274509803921568, 0.4980392156862745, 1.0),\n",
       " 485: (1.0, 0.8274509803921568, 0.4980392156862745, 1.0),\n",
       " 490: (1.0, 0.8274509803921568, 0.4980392156862745, 1.0),\n",
       " 495: (1.0, 0.8274509803921568, 0.4980392156862745, 1.0),\n",
       " 505: (1.0, 0.6666666666666666, 0.0, 1.0),\n",
       " 510: (1.0, 0.6666666666666666, 0.0, 1.0),\n",
       " 515: (1.0, 0.6666666666666666, 0.0, 1.0),\n",
       " 520: (1.0, 0.6666666666666666, 0.0, 1.0),\n",
       " 525: (1.0, 0.6666666666666666, 0.0, 1.0),\n",
       " 530: (1.0, 0.6666666666666666, 0.0, 1.0),\n",
       " 535: (1.0, 0.6666666666666666, 0.0, 1.0),\n",
       " 540: (1.0, 0.6666666666666666, 0.0, 1.0),\n",
       " 545: (1.0, 0.6666666666666666, 0.0, 1.0),\n",
       " 550: (1.0, 0.6666666666666666, 0.0, 1.0),\n",
       " 555: (1.0, 0.6666666666666666, 0.0, 1.0),\n",
       " 560: (1.0, 0.6666666666666666, 0.0, 1.0),\n",
       " 565: (1.0, 0.6666666666666666, 0.0, 1.0),\n",
       " 570: (1.0, 0.6666666666666666, 0.0, 1.0),\n",
       " 575: (1.0, 0.6666666666666666, 0.0, 1.0),\n",
       " 580: (1.0, 0.6666666666666666, 0.0, 1.0),\n",
       " 585: (1.0, 0.6666666666666666, 0.0, 1.0),\n",
       " 590: (1.0, 0.6666666666666666, 0.0, 1.0),\n",
       " 595: (1.0, 0.6666666666666666, 0.0, 1.0),\n",
       " 605: (1.0, 0.8274509803921568, 0.4980392156862745, 1.0),\n",
       " 610: (1.0, 0.8274509803921568, 0.4980392156862745, 1.0),\n",
       " 615: (1.0, 0.8274509803921568, 0.4980392156862745, 1.0),\n",
       " 620: (1.0, 0.8274509803921568, 0.4980392156862745, 1.0),\n",
       " 625: (1.0, 0.8274509803921568, 0.4980392156862745, 1.0),\n",
       " 630: (1.0, 0.8274509803921568, 0.4980392156862745, 1.0),\n",
       " 635: (1.0, 0.8274509803921568, 0.4980392156862745, 1.0),\n",
       " 640: (1.0, 0.8274509803921568, 0.4980392156862745, 1.0),\n",
       " 645: (1.0, 0.8274509803921568, 0.4980392156862745, 1.0),\n",
       " 650: (1.0, 0.8274509803921568, 0.4980392156862745, 1.0),\n",
       " 655: (1.0, 0.8274509803921568, 0.4980392156862745, 1.0),\n",
       " 660: (1.0, 0.8274509803921568, 0.4980392156862745, 1.0),\n",
       " 665: (1.0, 0.8274509803921568, 0.4980392156862745, 1.0),\n",
       " 670: (1.0, 0.8274509803921568, 0.4980392156862745, 1.0),\n",
       " 675: (1.0, 0.8274509803921568, 0.4980392156862745, 1.0),\n",
       " 680: (1.0, 0.8274509803921568, 0.4980392156862745, 1.0),\n",
       " 685: (1.0, 0.8274509803921568, 0.4980392156862745, 1.0),\n",
       " 690: (1.0, 0.8274509803921568, 0.4980392156862745, 1.0),\n",
       " 695: (1.0, 0.8274509803921568, 0.4980392156862745, 1.0),\n",
       " 705: (0.38823529411764707, 0.0, 0.0, 1.0),\n",
       " 710: (0.38823529411764707, 0.0, 0.0, 1.0),\n",
       " 715: (0.38823529411764707, 0.0, 0.0, 1.0),\n",
       " 720: (0.38823529411764707, 0.0, 0.0, 1.0),\n",
       " 725: (0.38823529411764707, 0.0, 0.0, 1.0),\n",
       " 730: (0.38823529411764707, 0.0, 0.0, 1.0),\n",
       " 735: (0.38823529411764707, 0.0, 0.0, 1.0),\n",
       " 740: (0.38823529411764707, 0.0, 0.0, 1.0),\n",
       " 745: (0.38823529411764707, 0.0, 0.0, 1.0),\n",
       " 750: (0.38823529411764707, 0.0, 0.0, 1.0),\n",
       " 755: (0.38823529411764707, 0.0, 0.0, 1.0),\n",
       " 760: (0.38823529411764707, 0.0, 0.0, 1.0),\n",
       " 765: (0.38823529411764707, 0.0, 0.0, 1.0),\n",
       " 770: (0.38823529411764707, 0.0, 0.0, 1.0),\n",
       " 775: (0.38823529411764707, 0.0, 0.0, 1.0),\n",
       " 780: (0.38823529411764707, 0.0, 0.0, 1.0),\n",
       " 785: (0.38823529411764707, 0.0, 0.0, 1.0),\n",
       " 790: (0.38823529411764707, 0.0, 0.0, 1.0),\n",
       " 795: (0.38823529411764707, 0.0, 0.0, 1.0),\n",
       " 805: (0.6666666666666666, 0.0, 0.0, 1.0),\n",
       " 810: (0.6666666666666666, 0.0, 0.0, 1.0),\n",
       " 815: (0.6666666666666666, 0.0, 0.0, 1.0),\n",
       " 820: (0.6666666666666666, 0.0, 0.0, 1.0),\n",
       " 825: (0.6666666666666666, 0.0, 0.0, 1.0),\n",
       " 830: (0.6666666666666666, 0.0, 0.0, 1.0),\n",
       " 835: (0.6666666666666666, 0.0, 0.0, 1.0),\n",
       " 840: (0.6666666666666666, 0.0, 0.0, 1.0),\n",
       " 845: (0.6666666666666666, 0.0, 0.0, 1.0),\n",
       " 850: (0.6666666666666666, 0.0, 0.0, 1.0),\n",
       " 855: (0.6666666666666666, 0.0, 0.0, 1.0),\n",
       " 860: (0.6666666666666666, 0.0, 0.0, 1.0),\n",
       " 865: (0.6666666666666666, 0.0, 0.0, 1.0),\n",
       " 870: (0.6666666666666666, 0.0, 0.0, 1.0),\n",
       " 875: (0.6666666666666666, 0.0, 0.0, 1.0),\n",
       " 880: (0.6666666666666666, 0.0, 0.0, 1.0),\n",
       " 885: (0.6666666666666666, 0.0, 0.0, 1.0),\n",
       " 890: (0.6666666666666666, 0.0, 0.0, 1.0),\n",
       " 895: (0.6666666666666666, 0.0, 0.0, 1.0),\n",
       " 905: (0.38823529411764707, 0.0, 0.0, 1.0),\n",
       " 910: (0.38823529411764707, 0.0, 0.0, 1.0),\n",
       " 915: (0.38823529411764707, 0.0, 0.0, 1.0),\n",
       " 920: (0.38823529411764707, 0.0, 0.0, 1.0),\n",
       " 925: (0.38823529411764707, 0.0, 0.0, 1.0),\n",
       " 930: (0.38823529411764707, 0.0, 0.0, 1.0),\n",
       " 935: (0.38823529411764707, 0.0, 0.0, 1.0),\n",
       " 940: (0.38823529411764707, 0.0, 0.0, 1.0),\n",
       " 945: (0.38823529411764707, 0.0, 0.0, 1.0),\n",
       " 950: (0.38823529411764707, 0.0, 0.0, 1.0),\n",
       " 955: (0.38823529411764707, 0.0, 0.0, 1.0),\n",
       " 960: (0.38823529411764707, 0.0, 0.0, 1.0),\n",
       " 965: (0.38823529411764707, 0.0, 0.0, 1.0),\n",
       " 970: (0.38823529411764707, 0.0, 0.0, 1.0),\n",
       " 975: (0.38823529411764707, 0.0, 0.0, 1.0),\n",
       " 980: (0.38823529411764707, 0.0, 0.0, 1.0),\n",
       " 985: (0.38823529411764707, 0.0, 0.0, 1.0),\n",
       " 990: (0.38823529411764707, 0.0, 0.0, 1.0),\n",
       " 995: (0.38823529411764707, 0.0, 0.0, 1.0)}"
      ]
     },
     "execution_count": 274,
     "metadata": {},
     "output_type": "execute_result"
    }
   ],
   "source": [
    "aux = 0\n",
    "myColors = {}\n",
    "for i in ColorsID:\n",
    "    myColors[i] = MColors[aux]\n",
    "    aux += 1\n",
    "myColors"
   ]
  },
  {
   "cell_type": "code",
   "execution_count": null,
   "metadata": {
    "collapsed": true
   },
   "outputs": [],
   "source": []
  },
  {
   "cell_type": "code",
   "execution_count": 279,
   "metadata": {},
   "outputs": [
    {
     "data": {
      "image/png": "[encoded data removed]",
      "text/plain": [
       "<matplotlib.figure.Figure at 0x1867e91f710>"
      ]
     },
     "metadata": {},
     "output_type": "display_data"
    }
   ],
   "source": [
    "import matplotlib.pyplot as plt\n",
    "import numpy as np\n",
    "import matplotlib.colors as colors\n",
    "\n",
    "x = np.linspace(-2,2,500)\n",
    "y = np.linspace(-2,2,500)\n",
    "XX, YY = np.meshgrid(x, y)\n",
    "Z = np.sin(XX) * np.cos(YY)\n",
    "\n",
    "cmap = colors.ListedColormap(['red'])\n",
    "boundaries = [-1, 1]\n",
    "norm = colors.BoundaryNorm(boundaries, cmap.N, clip=True)\n",
    "\n",
    "plt.pcolormesh(x,y,Z, cmap=cmap, norm=norm)\n",
    "plt.colorbar()\n",
    "plt.show()"
   ]
  }
 ],
 "metadata": {
  "kernelspec": {
   "display_name": "Python 3",
   "language": "python",
   "name": "python3"
  },
  "language_info": {
   "codemirror_mode": {
    "name": "ipython",
    "version": 3
   },
   "file_extension": ".py",
   "mimetype": "text/x-python",
   "name": "python",
   "nbconvert_exporter": "python",
   "pygments_lexer": "ipython3",
   "version": "3.6.2"
  }
 },
 "nbformat": 4,
 "nbformat_minor": 2
}
