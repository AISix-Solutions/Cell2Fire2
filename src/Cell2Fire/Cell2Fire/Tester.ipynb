{
 "cells": [
  {
   "cell_type": "code",
   "execution_count": 1,
   "metadata": {
    "collapsed": true
   },
   "outputs": [],
   "source": [
    "import pandas as pd"
   ]
  },
  {
   "cell_type": "code",
   "execution_count": 8,
   "metadata": {},
   "outputs": [
    {
     "name": "stdout",
     "output_type": "stream",
     "text": [
      "Rows: 3 Cols: 3 NCells: 9\n"
     ]
    }
   ],
   "source": [
    "DFForest = pd.read_csv(\"C:/Users/Lenovo/Documents/GitHub/Cell2Fire/data/9cells/Forest.asc\", \n",
    "                       sep=\" \", header=None, nrows=2)\n",
    "Shape = DFForest[1].values\n",
    "print(\"Rows:\", Shape[0], \"Cols:\", Shape[1], \"NCells:\", Shape[0] * Shape[1])"
   ]
  }
 ],
 "metadata": {
  "kernelspec": {
   "display_name": "Python 3",
   "language": "python",
   "name": "python3"
  },
  "language_info": {
   "codemirror_mode": {
    "name": "ipython",
    "version": 3
   },
   "file_extension": ".py",
   "mimetype": "text/x-python",
   "name": "python",
   "nbconvert_exporter": "python",
   "pygments_lexer": "ipython3",
   "version": "3.6.2"
  }
 },
 "nbformat": 4,
 "nbformat_minor": 2
}
