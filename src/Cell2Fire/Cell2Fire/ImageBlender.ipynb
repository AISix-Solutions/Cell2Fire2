{
 "cells": [
  {
   "cell_type": "code",
   "execution_count": 223,
   "metadata": {
    "code_folding": [
     15
    ]
   },
   "outputs": [],
   "source": [
    "# import sys\n",
    "import os\n",
    "import imread\n",
    "import glob\n",
    "\n",
    "#Visual importations\n",
    "from matplotlib.pylab import *\n",
    "import matplotlib as mpl\n",
    "import matplotlib.cm as cm\n",
    "import matplotlib.patches as patches\n",
    "from matplotlib.backends.backend_pdf import PdfPages\n",
    "import itertools\n",
    "import numpy as np\n",
    "from matplotlib.colors import LinearSegmentedColormap\n",
    "\n",
    "def MultiFireMix(Folder,nSims,mode=\"Scale\",probs=[]):\n",
    "        # Read initial forest status\n",
    "        imgForest = imread(os.path.join(Folder, \"ForestInitial.png\"))\n",
    "        #fstr = str(filen).zfill(4)\n",
    "        \n",
    "        # If no probs provided, alpha = 0.25 by default (otherwise, transparency is proportional to the fire probability)\n",
    "        if len(probs) == 0:\n",
    "            probs = np.full(nSims, 1/nSims)\n",
    "        \n",
    "        #Path and name of the file\n",
    "        PathFile = []\n",
    "        for i in range(1, nSims+1):\n",
    "            #PathFile.append(os.path.join(Folder, \"Plots\", \"Plots\"+str(i), \"forest\" + fstr + \".png\"))\n",
    "            ScarPath = os.path.join(Folder, \"Plots\", \"Plots\"+str(i))\n",
    "            ScarFiles = os.listdir(ScarPath)\n",
    "            PathFile.append(ScarPath +\"/\"+ScarFiles[-1])\n",
    "            #print(ScarFiles[-1])\n",
    "        \n",
    "        # Reads the basic forest\n",
    "        imgArray = []\n",
    "    \n",
    "        for i in range(nSims):\n",
    "            imgArray.append(imread(PathFile[i]))\n",
    "            #print(imgArray[i].shape)\n",
    "        \n",
    "        # Summation mode: sum the pixels values for highlighting the intersections of fires (more intense than Scale)\n",
    "        if mode == \"Sum\":\n",
    "            SumPixels = np.zeros([imgArray[0].shape[0], imgArray[0].shape[1], imgArray[0].shape[2]])\n",
    "            for i in range(nSims):\n",
    "                SumPixels[:,:,] += imgArray[i][:,:,]\n",
    "\n",
    "            SumPixels[:,:,] += 1\n",
    "            # Divide by the total number of simulations \n",
    "            SumPixels /= (nSims+1)\n",
    "        \n",
    "        # Over plot\n",
    "        gca().set_axis_off()\n",
    "        subplots_adjust(top = 1, bottom = 0, right = 1, left = 0, \n",
    "                        hspace = 0, wspace = 0)\n",
    "        margins(0,0)\n",
    "        gca().xaxis.set_major_locator(NullLocator())\n",
    "        gca().yaxis.set_major_locator(NullLocator())\n",
    "        \n",
    "        # Plot the initial forest state\n",
    "        plt.imshow(imgForest,zorder=0)\n",
    "        \n",
    "        # Sum or Scale\n",
    "        if mode == \"Sum\":\n",
    "            plt.imshow(SumPixels, zorder=0, alpha=1, vmin=0, vmax=255)\n",
    "        \n",
    "        # Plot each fire\n",
    "        else:\n",
    "             for i in range(nSims):\n",
    "                plt.imshow(imgArray[i], zorder=i, alpha=probs[i], vmin=0, vmax=255)\n",
    "\n",
    "        # Save the combined picture\n",
    "        plt.savefig(os.path.join(Folder, \"Plots\", \"MultiFire_Plot.png\"), bbox_inches='tight', dpi=200, pad_inches=0)\n",
    "        plt.close(\"all\")"
   ]
  },
  {
   "cell_type": "code",
   "execution_count": 222,
   "metadata": {},
   "outputs": [],
   "source": [
    "Folder = \"C:/Users/chile/Desktop/Cell2Fire_Win40x40_Ig/\"\n",
    "MultiFireMix(Folder,nSims=50,mode=\"Scale\")"
   ]
  },
  {
   "cell_type": "code",
   "execution_count": 221,
   "metadata": {},
   "outputs": [],
   "source": [
    "MultiFireMix(Folder,nSims=50,mode=\"Sum\")"
   ]
  },
  {
   "cell_type": "code",
   "execution_count": 218,
   "metadata": {},
   "outputs": [],
   "source": [
    "Folder = \"C:/Users/chile/Desktop/Cell2Fire_Sept20_Unix/\"\n",
    "MultiFireMix(Folder,nSims=50,mode=\"Scale\")"
   ]
  },
  {
   "cell_type": "code",
   "execution_count": 216,
   "metadata": {},
   "outputs": [],
   "source": [
    "MultiFireMix(Folder,nSims=10,mode=\"Sum\")"
   ]
  }
 ],
 "metadata": {
  "kernelspec": {
   "display_name": "Python 3",
   "language": "python",
   "name": "python3"
  },
  "language_info": {
   "codemirror_mode": {
    "name": "ipython",
    "version": 3
   },
   "file_extension": ".py",
   "mimetype": "text/x-python",
   "name": "python",
   "nbconvert_exporter": "python",
   "pygments_lexer": "ipython3",
   "version": "3.6.2"
  }
 },
 "nbformat": 4,
 "nbformat_minor": 2
}
